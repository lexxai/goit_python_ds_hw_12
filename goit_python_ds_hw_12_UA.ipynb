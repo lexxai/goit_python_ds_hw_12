{
  "nbformat": 4,
  "nbformat_minor": 0,
  "metadata": {
    "colab": {
      "provenance": [],
      "collapsed_sections": [
        "s0P9L_M7NAzZ"
      ],
      "authorship_tag": "ABX9TyO9KpMSQRQU11IO+s6OBk3O",
      "include_colab_link": true
    },
    "kernelspec": {
      "name": "python3",
      "display_name": "Python 3"
    },
    "language_info": {
      "name": "python"
    }
  },
  "cells": [
    {
      "cell_type": "markdown",
      "metadata": {
        "id": "view-in-github",
        "colab_type": "text"
      },
      "source": [
        "<a href=\"https://colab.research.google.com/github/lexxai/goit_python_ds_hw_12/blob/main/goit_python_ds_hw_12_UA.ipynb\" target=\"_parent\"><img src=\"https://colab.research.google.com/assets/colab-badge.svg\" alt=\"Open In Colab\"/></a>"
      ]
    },
    {
      "cell_type": "markdown",
      "source": [
        "# Модуль 12. Основи NLP. UA.\n",
        "\n",
        "*З циклу [домашніх завдань Python Data Science](https://github.com/lexxai/goit_python_data_sciense_homework).*\n",
        "\n",
        "# Домашнє завдання"
      ],
      "metadata": {
        "id": "yyLRXrtSUPez"
      }
    },
    {
      "cell_type": "markdown",
      "source": [
        "Зробіть summary нижчевказаного тексту використовуючи бібліотеки для NLP: `SpaCy`  та словника української мови.\n",
        "\n",
        "```\n",
        "The Orbiter Discovery, OV-103, is considered eligible for listing in the National Register of Historic Places (NRHP) in the context of the U.S. Space Shuttle Program (1969-2011) under Criterion A in the areas of Space Exploration and Transportation and under Criterion C in the area of Engineering. Because it has achieved significance within the past fifty years, Criteria Consideration G applies. Under Criterion A, Discovery is significant as the oldest of the three extant orbiter vehicles constructed for the Space Shuttle Program (SSP), the longest running American space program to date; she was the third of five orbiters built by NASA. Unlike the Mercury, Gemini, and Apollo programs, the SSP’s emphasis was on cost effectiveness and reusability, and eventually the construction of a space station. Including her maiden voyage (launched August 30, 1984), Discovery flew to space thirty-nine times, more than any of the other four orbiters; she was also the first orbiter to fly twenty missions. She had the honor of being chosen as the Return to Flight vehicle after both the Challenger and Columbia accidents. Discovery was the first shuttle to fly with the redesigned SRBs, a result of the Challenger accident, and the first shuttle to fly with the Phase II and Block I SSME. Discovery also carried the Hubble Space Telescope to orbit and performed two of the five servicing missions to the observatory. She flew the first and last dedicated Department of Defense (DoD) missions, as well as the first unclassified defense-related mission. In addition, Discovery was vital to the construction of the International Space Station (ISS); she flew thirteen of the thirty-seven total missions flown to the station by a U.S. Space Shuttle. She was the first orbiter to dock to the ISS, and the first to perform an exchange of a resident crew. Under Criterion C, Discovery is significant as a feat of engineering. According to Wayne Hale, a flight director from Johnson Space Center, the Space Shuttle orbiter represents a “huge technological leap from expendable rockets and capsules to a reusable, winged, hypersonic, cargo-carrying spacecraft.” Although her base structure followed a conventional aircraft design, she used advanced materials that both minimized her weight for cargo-carrying purposes and featured low thermal expansion ratios, which provided a stable base for her Thermal Protection System (TPS) materials. The Space Shuttle orbiter also featured the first reusable TPS; all previous spaceflight vehicles had a single-use, ablative heat shield. Other notable engineering achievements of the orbiter included the first reusable orbital propulsion system, and the first two-fault-tolerant Integrated Avionics System. As Hale stated, the Space Shuttle remains “the largest, fastest, winged hypersonic aircraft in history,” having regularly flown at twenty-five times the speed of sound.\n",
        "```\n"
      ],
      "metadata": {
        "id": "fGgMtFjfU5Hc"
      }
    },
    {
      "cell_type": "markdown",
      "source": [
        "```\n",
        "Орбітальний корабель \"Discovery\", OV-103, вважається таким, що має право на внесення до Національного реєстру історичних місць (NRHP) в контексті Програми космічних човників США (1969-2011) за критерієм A в галузі космічних досліджень і транспорту та за критерієм C в галузі інженерії. Оскільки вона досягла значущості протягом останніх п'ятдесяти років, застосовується Розгляд критерію G. Відповідно до Критерію А, \"Discovery\" є важливим як найстаріший з трьох збережених орбітальних кораблів, побудованих для програми \"Space Shuttle\" (SSP), найдовшої американської космічної програми на сьогоднішній день; він був третім з п'яти орбітальних кораблів, побудованих NASA. На відміну від програм \"Mercury\", \"Gemini\" та \"Apollo\", основна увага в SSP приділялася економічній ефективності та багаторазовому використанню, а в перспективі - створенню космічної станції. Включаючи свій перший політ (запущений 30 серпня 1984 року), \"Discovery\" літав у космос тридцять дев'ять разів, більше, ніж будь-який з інших чотирьох орбітальних кораблів; він також був першим орбітальним кораблем, який здійснив двадцять місій. Вона мала честь бути обраною для повернення до польотів після аварій \"Challenger\" і \"Columbia\". \"Discovery\" став першим шатлом, який полетів з модернізованими SRB, що були розроблені після аварії \"Challenger\", і першим шатлом, який полетів з SSME Фази II і Блоку I. \"Discovery \" також доставив на орбіту космічний телескоп \"Hubble \" і здійснив дві з п'яти місій з обслуговування обсерваторії. Вона виконала першу і останню місії Міністерства оборони США, а також першу несекретну місію, пов'язану з обороною. Крім того, \"Discovery\" відіграв важливу роль у будівництві Міжнародної космічної станції (МКС); він здійснив тринадцять з тридцяти семи польотів на станцію за допомогою американського космічного човника. Вона була першим орбітальним кораблем, який пристикувався до МКС, і першим, який здійснив обмін екіпажем, що проживає на станції. За критерієм С \"Discovery\" є значущим як інженерний подвиг. За словами Вейна Хейла, керівника польотів з Космічного центру імені Джонсона, орбітальний корабель \"Space Shuttle\" являє собою \"величезний технологічний стрибок від одноразових ракет і капсул до багаторазового, крилатого, гіперзвукового космічного корабля, що несе вантаж\". Хоча його базова конструкція наслідує конструкцію звичайного літака, він використовує передові матеріали, які мінімізують його вагу для перевезення вантажу і мають низький коефіцієнт теплового розширення, що забезпечує стабільну основу для матеріалів системи теплового захисту (TPS). На орбітальному кораблі \"Space Shuttle\" також була встановлена перша багаторазова система TPS; всі попередні космічні кораблі мали одноразовий теплозахисний екран, що наносився абразивним способом. Серед інших визначних інженерних досягнень орбітального корабля - перша багаторазова орбітальна рухова установка і перша стійка до двох відмов інтегрована система авіоніки. За словами Хейла, \"Space Shuttle\" залишається \"найбільшим, найшвидшим, найкрилатішим гіперзвуковим літаком в історії\", який регулярно літає зі швидкістю, що у двадцять п'ять разів перевищує швидкість звуку.\n",
        "```\n",
        "\n",
        "Translated with DeepL.com (free version)"
      ],
      "metadata": {
        "id": "Xw2rcJwFyiNo"
      }
    },
    {
      "cell_type": "markdown",
      "source": [
        "# Виконання"
      ],
      "metadata": {
        "id": "Sn4us1W9VFRa"
      }
    },
    {
      "cell_type": "markdown",
      "source": [
        "## TEXT Preprocessor"
      ],
      "metadata": {
        "id": "kEJ8sD3NJKs_"
      }
    },
    {
      "cell_type": "code",
      "source": [
        "!python -m spacy download uk_core_news_sm"
      ],
      "metadata": {
        "colab": {
          "base_uri": "https://localhost:8080/"
        },
        "id": "7yMtPZz-2SzS",
        "outputId": "bbad4017-b54b-4c6e-df4d-3c63090ba094"
      },
      "execution_count": 6,
      "outputs": [
        {
          "output_type": "stream",
          "name": "stdout",
          "text": [
            "Collecting uk-core-news-sm==3.7.0\n",
            "  Downloading https://github.com/explosion/spacy-models/releases/download/uk_core_news_sm-3.7.0/uk_core_news_sm-3.7.0-py3-none-any.whl (14.9 MB)\n",
            "\u001b[2K     \u001b[90m━━━━━━━━━━━━━━━━━━━━━━━━━━━━━━━━━━━━━━━━\u001b[0m \u001b[32m14.9/14.9 MB\u001b[0m \u001b[31m38.9 MB/s\u001b[0m eta \u001b[36m0:00:00\u001b[0m\n",
            "\u001b[?25hRequirement already satisfied: spacy<3.8.0,>=3.7.0 in /usr/local/lib/python3.10/dist-packages (from uk-core-news-sm==3.7.0) (3.7.4)\n",
            "Collecting pymorphy3>=1.0.0 (from uk-core-news-sm==3.7.0)\n",
            "  Downloading pymorphy3-2.0.1-py3-none-any.whl (53 kB)\n",
            "\u001b[2K     \u001b[90m━━━━━━━━━━━━━━━━━━━━━━━━━━━━━━━━━━━━━━━━\u001b[0m \u001b[32m53.2/53.2 kB\u001b[0m \u001b[31m1.7 MB/s\u001b[0m eta \u001b[36m0:00:00\u001b[0m\n",
            "\u001b[?25hCollecting pymorphy3-dicts-uk (from uk-core-news-sm==3.7.0)\n",
            "  Downloading pymorphy3_dicts_uk-2.4.1.1.1663094765-py2.py3-none-any.whl (8.2 MB)\n",
            "\u001b[2K     \u001b[90m━━━━━━━━━━━━━━━━━━━━━━━━━━━━━━━━━━━━━━━━\u001b[0m \u001b[32m8.2/8.2 MB\u001b[0m \u001b[31m21.7 MB/s\u001b[0m eta \u001b[36m0:00:00\u001b[0m\n",
            "\u001b[?25hCollecting dawg-python>=0.7.1 (from pymorphy3>=1.0.0->uk-core-news-sm==3.7.0)\n",
            "  Downloading DAWG_Python-0.7.2-py2.py3-none-any.whl (11 kB)\n",
            "Collecting pymorphy3-dicts-ru (from pymorphy3>=1.0.0->uk-core-news-sm==3.7.0)\n",
            "  Downloading pymorphy3_dicts_ru-2.4.417150.4580142-py2.py3-none-any.whl (8.4 MB)\n",
            "\u001b[2K     \u001b[90m━━━━━━━━━━━━━━━━━━━━━━━━━━━━━━━━━━━━━━━━\u001b[0m \u001b[32m8.4/8.4 MB\u001b[0m \u001b[31m70.3 MB/s\u001b[0m eta \u001b[36m0:00:00\u001b[0m\n",
            "\u001b[?25hRequirement already satisfied: spacy-legacy<3.1.0,>=3.0.11 in /usr/local/lib/python3.10/dist-packages (from spacy<3.8.0,>=3.7.0->uk-core-news-sm==3.7.0) (3.0.12)\n",
            "Requirement already satisfied: spacy-loggers<2.0.0,>=1.0.0 in /usr/local/lib/python3.10/dist-packages (from spacy<3.8.0,>=3.7.0->uk-core-news-sm==3.7.0) (1.0.5)\n",
            "Requirement already satisfied: murmurhash<1.1.0,>=0.28.0 in /usr/local/lib/python3.10/dist-packages (from spacy<3.8.0,>=3.7.0->uk-core-news-sm==3.7.0) (1.0.10)\n",
            "Requirement already satisfied: cymem<2.1.0,>=2.0.2 in /usr/local/lib/python3.10/dist-packages (from spacy<3.8.0,>=3.7.0->uk-core-news-sm==3.7.0) (2.0.8)\n",
            "Requirement already satisfied: preshed<3.1.0,>=3.0.2 in /usr/local/lib/python3.10/dist-packages (from spacy<3.8.0,>=3.7.0->uk-core-news-sm==3.7.0) (3.0.9)\n",
            "Requirement already satisfied: thinc<8.3.0,>=8.2.2 in /usr/local/lib/python3.10/dist-packages (from spacy<3.8.0,>=3.7.0->uk-core-news-sm==3.7.0) (8.2.3)\n",
            "Requirement already satisfied: wasabi<1.2.0,>=0.9.1 in /usr/local/lib/python3.10/dist-packages (from spacy<3.8.0,>=3.7.0->uk-core-news-sm==3.7.0) (1.1.2)\n",
            "Requirement already satisfied: srsly<3.0.0,>=2.4.3 in /usr/local/lib/python3.10/dist-packages (from spacy<3.8.0,>=3.7.0->uk-core-news-sm==3.7.0) (2.4.8)\n",
            "Requirement already satisfied: catalogue<2.1.0,>=2.0.6 in /usr/local/lib/python3.10/dist-packages (from spacy<3.8.0,>=3.7.0->uk-core-news-sm==3.7.0) (2.0.10)\n",
            "Requirement already satisfied: weasel<0.4.0,>=0.1.0 in /usr/local/lib/python3.10/dist-packages (from spacy<3.8.0,>=3.7.0->uk-core-news-sm==3.7.0) (0.3.4)\n",
            "Requirement already satisfied: typer<0.10.0,>=0.3.0 in /usr/local/lib/python3.10/dist-packages (from spacy<3.8.0,>=3.7.0->uk-core-news-sm==3.7.0) (0.9.0)\n",
            "Requirement already satisfied: smart-open<7.0.0,>=5.2.1 in /usr/local/lib/python3.10/dist-packages (from spacy<3.8.0,>=3.7.0->uk-core-news-sm==3.7.0) (6.4.0)\n",
            "Requirement already satisfied: tqdm<5.0.0,>=4.38.0 in /usr/local/lib/python3.10/dist-packages (from spacy<3.8.0,>=3.7.0->uk-core-news-sm==3.7.0) (4.66.2)\n",
            "Requirement already satisfied: requests<3.0.0,>=2.13.0 in /usr/local/lib/python3.10/dist-packages (from spacy<3.8.0,>=3.7.0->uk-core-news-sm==3.7.0) (2.31.0)\n",
            "Requirement already satisfied: pydantic!=1.8,!=1.8.1,<3.0.0,>=1.7.4 in /usr/local/lib/python3.10/dist-packages (from spacy<3.8.0,>=3.7.0->uk-core-news-sm==3.7.0) (2.6.4)\n",
            "Requirement already satisfied: jinja2 in /usr/local/lib/python3.10/dist-packages (from spacy<3.8.0,>=3.7.0->uk-core-news-sm==3.7.0) (3.1.3)\n",
            "Requirement already satisfied: setuptools in /usr/local/lib/python3.10/dist-packages (from spacy<3.8.0,>=3.7.0->uk-core-news-sm==3.7.0) (67.7.2)\n",
            "Requirement already satisfied: packaging>=20.0 in /usr/local/lib/python3.10/dist-packages (from spacy<3.8.0,>=3.7.0->uk-core-news-sm==3.7.0) (24.0)\n",
            "Requirement already satisfied: langcodes<4.0.0,>=3.2.0 in /usr/local/lib/python3.10/dist-packages (from spacy<3.8.0,>=3.7.0->uk-core-news-sm==3.7.0) (3.3.0)\n",
            "Requirement already satisfied: numpy>=1.19.0 in /usr/local/lib/python3.10/dist-packages (from spacy<3.8.0,>=3.7.0->uk-core-news-sm==3.7.0) (1.25.2)\n",
            "Requirement already satisfied: annotated-types>=0.4.0 in /usr/local/lib/python3.10/dist-packages (from pydantic!=1.8,!=1.8.1,<3.0.0,>=1.7.4->spacy<3.8.0,>=3.7.0->uk-core-news-sm==3.7.0) (0.6.0)\n",
            "Requirement already satisfied: pydantic-core==2.16.3 in /usr/local/lib/python3.10/dist-packages (from pydantic!=1.8,!=1.8.1,<3.0.0,>=1.7.4->spacy<3.8.0,>=3.7.0->uk-core-news-sm==3.7.0) (2.16.3)\n",
            "Requirement already satisfied: typing-extensions>=4.6.1 in /usr/local/lib/python3.10/dist-packages (from pydantic!=1.8,!=1.8.1,<3.0.0,>=1.7.4->spacy<3.8.0,>=3.7.0->uk-core-news-sm==3.7.0) (4.10.0)\n",
            "Requirement already satisfied: charset-normalizer<4,>=2 in /usr/local/lib/python3.10/dist-packages (from requests<3.0.0,>=2.13.0->spacy<3.8.0,>=3.7.0->uk-core-news-sm==3.7.0) (3.3.2)\n",
            "Requirement already satisfied: idna<4,>=2.5 in /usr/local/lib/python3.10/dist-packages (from requests<3.0.0,>=2.13.0->spacy<3.8.0,>=3.7.0->uk-core-news-sm==3.7.0) (3.6)\n",
            "Requirement already satisfied: urllib3<3,>=1.21.1 in /usr/local/lib/python3.10/dist-packages (from requests<3.0.0,>=2.13.0->spacy<3.8.0,>=3.7.0->uk-core-news-sm==3.7.0) (2.0.7)\n",
            "Requirement already satisfied: certifi>=2017.4.17 in /usr/local/lib/python3.10/dist-packages (from requests<3.0.0,>=2.13.0->spacy<3.8.0,>=3.7.0->uk-core-news-sm==3.7.0) (2024.2.2)\n",
            "Requirement already satisfied: blis<0.8.0,>=0.7.8 in /usr/local/lib/python3.10/dist-packages (from thinc<8.3.0,>=8.2.2->spacy<3.8.0,>=3.7.0->uk-core-news-sm==3.7.0) (0.7.11)\n",
            "Requirement already satisfied: confection<1.0.0,>=0.0.1 in /usr/local/lib/python3.10/dist-packages (from thinc<8.3.0,>=8.2.2->spacy<3.8.0,>=3.7.0->uk-core-news-sm==3.7.0) (0.1.4)\n",
            "Requirement already satisfied: click<9.0.0,>=7.1.1 in /usr/local/lib/python3.10/dist-packages (from typer<0.10.0,>=0.3.0->spacy<3.8.0,>=3.7.0->uk-core-news-sm==3.7.0) (8.1.7)\n",
            "Requirement already satisfied: cloudpathlib<0.17.0,>=0.7.0 in /usr/local/lib/python3.10/dist-packages (from weasel<0.4.0,>=0.1.0->spacy<3.8.0,>=3.7.0->uk-core-news-sm==3.7.0) (0.16.0)\n",
            "Requirement already satisfied: MarkupSafe>=2.0 in /usr/local/lib/python3.10/dist-packages (from jinja2->spacy<3.8.0,>=3.7.0->uk-core-news-sm==3.7.0) (2.1.5)\n",
            "Installing collected packages: pymorphy3-dicts-uk, pymorphy3-dicts-ru, dawg-python, pymorphy3, uk-core-news-sm\n",
            "Successfully installed dawg-python-0.7.2 pymorphy3-2.0.1 pymorphy3-dicts-ru-2.4.417150.4580142 pymorphy3-dicts-uk-2.4.1.1.1663094765 uk-core-news-sm-3.7.0\n",
            "\u001b[38;5;2m✔ Download and installation successful\u001b[0m\n",
            "You can now load the package via spacy.load('uk_core_news_sm')\n",
            "\u001b[38;5;3m⚠ Restart to reload dependencies\u001b[0m\n",
            "If you are in a Jupyter or Colab notebook, you may need to restart Python in\n",
            "order to load all the package's dependencies. You can do this by selecting the\n",
            "'Restart kernel' or 'Restart runtime' option.\n"
          ]
        }
      ]
    },
    {
      "cell_type": "code",
      "source": [
        "# Текст для обробки\n",
        "# text = \"This is an example sentence for tokenization and lemmatization.\"\n",
        "text = \"\"\"\n",
        "Орбітальний корабель \"Discovery\", OV-103, вважається таким, що має право на внесення до Національного реєстру історичних місць (NRHP) в контексті Програми космічних човників США (1969-2011) за критерієм A в галузі космічних досліджень і транспорту та за критерієм C в галузі інженерії. Оскільки вона досягла значущості протягом останніх п'ятдесяти років, застосовується Розгляд критерію G. Відповідно до Критерію А, \"Discovery\" є важливим як найстаріший з трьох збережених орбітальних кораблів, побудованих для програми \"Space Shuttle\" (SSP), найдовшої американської космічної програми на сьогоднішній день; він був третім з п'яти орбітальних кораблів, побудованих NASA. На відміну від програм \"Mercury\", \"Gemini\" та \"Apollo\", основна увага в SSP приділялася економічній ефективності та багаторазовому використанню, а в перспективі - створенню космічної станції. Включаючи свій перший політ (запущений 30 серпня 1984 року), \"Discovery\" літав у космос тридцять дев'ять разів, більше, ніж будь-який з інших чотирьох орбітальних кораблів; він також був першим орбітальним кораблем, який здійснив двадцять місій. Вона мала честь бути обраною для повернення до польотів після аварій \"Challenger\" і \"Columbia\". \"Discovery\" став першим шатлом, який полетів з модернізованими SRB, що були розроблені після аварії \"Challenger\", і першим шатлом, який полетів з SSME Фази II і Блоку I. \"Discovery \" також доставив на орбіту космічний телескоп \"Hubble \" і здійснив дві з п'яти місій з обслуговування обсерваторії. Вона виконала першу і останню місії Міністерства оборони США, а також першу несекретну місію, пов'язану з обороною. Крім того, \"Discovery\" відіграв важливу роль у будівництві Міжнародної космічної станції (МКС); він здійснив тринадцять з тридцяти семи польотів на станцію за допомогою американського космічного човника. Вона була першим орбітальним кораблем, який пристикувався до МКС, і першим, який здійснив обмін екіпажем, що проживає на станції. За критерієм С \"Discovery\" є значущим як інженерний подвиг. За словами Вейна Хейла, керівника польотів з Космічного центру імені Джонсона, орбітальний корабель \"Space Shuttle\" являє собою \"величезний технологічний стрибок від одноразових ракет і капсул до багаторазового, крилатого, гіперзвукового космічного корабля, що несе вантаж\". Хоча його базова конструкція наслідує конструкцію звичайного літака, він використовує передові матеріали, які мінімізують його вагу для перевезення вантажу і мають низький коефіцієнт теплового розширення, що забезпечує стабільну основу для матеріалів системи теплового захисту (TPS). На орбітальному кораблі \"Space Shuttle\" також була встановлена перша багаторазова система TPS; всі попередні космічні кораблі мали одноразовий теплозахисний екран, що наносився абразивним способом. Серед інших визначних інженерних досягнень орбітального корабля - перша багаторазова орбітальна рухова установка і перша стійка до двох відмов інтегрована система авіоніки. За словами Хейла, \"Space Shuttle\" залишається \"найбільшим, найшвидшим, найкрилатішим гіперзвуковим літаком в історії\", який регулярно літає зі швидкістю, що у двадцять п'ять разів перевищує швидкість звуку.\n",
        "\"\"\"\n",
        "\n",
        "text = \" \".join(text.split('\\n'))\n",
        "text = \" \".join(text.split())\n",
        "\n",
        "\n"
      ],
      "metadata": {
        "id": "TrEwbKlwWBqP"
      },
      "execution_count": 6,
      "outputs": []
    },
    {
      "cell_type": "markdown",
      "source": [
        "## Реалізація через spaCy"
      ],
      "metadata": {
        "id": "MEsHbJT4JWvg"
      }
    },
    {
      "cell_type": "markdown",
      "source": [
        "### Допоміжні функції"
      ],
      "metadata": {
        "id": "ml4mRDRMVPAt"
      }
    },
    {
      "cell_type": "code",
      "execution_count": 1,
      "metadata": {
        "id": "KobA6-jlT5m0"
      },
      "outputs": [],
      "source": [
        "import spacy"
      ]
    },
    {
      "cell_type": "code",
      "source": [
        "def get_word_frequencies_spacy(doc):\n",
        "  word_frequencies = {}\n",
        "  for word in doc:\n",
        "    if word.is_stop or word.is_punct or word.is_space:\n",
        "      continue\n",
        "    word_lower = word.text.lower()\n",
        "    word_frequencies[word_lower] = word_frequencies.get(word_lower, 0) + 1\n",
        "  return word_frequencies\n",
        "\n",
        "\n",
        "def get_ranked_sentences_index(sentences, word_frequencies):\n",
        "  ranked_sentences_index = {}\n",
        "  for i, s in enumerate(sentences):\n",
        "    sentence_score = sum(word_frequencies.get(word.text.lower(), 0) for word in s)\n",
        "    ranked_sentences_index[i] = sentence_score\n",
        "  return ranked_sentences_index\n",
        "\n",
        "\n",
        "def summarise_spacy(text, num_sentences=4, lang=\"uk_core_news_sm\"):\n",
        "  nlp = spacy.load(lang)\n",
        "  doc = nlp(text)\n",
        "  sentences = list(doc.sents)\n",
        "  word_frequencies = get_word_frequencies_spacy(doc)\n",
        "  ranked_sentences_index = get_ranked_sentences_index(sentences, word_frequencies)\n",
        "  sort_ranked_sentences = sorted(ranked_sentences_index, key=ranked_sentences_index.get, reverse=True)\n",
        "  summary = [ sentences[i] for i in sort_ranked_sentences[:num_sentences] ]\n",
        "  return summary"
      ],
      "metadata": {
        "id": "YOouYT1mJuEf"
      },
      "execution_count": 2,
      "outputs": []
    },
    {
      "cell_type": "markdown",
      "source": [
        "#### nlargest\n"
      ],
      "metadata": {
        "id": "s0P9L_M7NAzZ"
      }
    },
    {
      "cell_type": "code",
      "source": [
        "from heapq import nlargest\n",
        "\n",
        "def summarise_spacy_nlargest(text, num_sentences=4):\n",
        "  nlp = spacy.load('en_core_web_sm')\n",
        "  doc = nlp(text)\n",
        "  sentences = list(doc.sents)\n",
        "  word_frequencies = get_word_frequencies_spacy(doc)\n",
        "  ranked_sentences_index = get_ranked_sentences_index(sentences, word_frequencies)\n",
        "  summary_index = nlargest(select_length, ranked_sentences_index, key = ranked_sentences_index.get)\n",
        "  summary = [sentences[i] for i in summary_index]\n",
        "  return summary"
      ],
      "metadata": {
        "id": "ApD9xyZINBm0"
      },
      "execution_count": null,
      "outputs": []
    },
    {
      "cell_type": "markdown",
      "source": [
        "### Резльтат summary"
      ],
      "metadata": {
        "id": "fe0EEKQDVSwt"
      }
    },
    {
      "cell_type": "code",
      "source": [
        "summary = summarise_spacy(text)\n",
        "for s in summary:\n",
        "  print(s)"
      ],
      "metadata": {
        "colab": {
          "base_uri": "https://localhost:8080/"
        },
        "id": "wSWgHyQkMAXf",
        "outputId": "3b883409-876d-4538-ecb8-b1388ed82e94"
      },
      "execution_count": 7,
      "outputs": [
        {
          "output_type": "stream",
          "name": "stdout",
          "text": [
            "\"Discovery\" став першим шатлом, який полетів з модернізованими SRB, що були розроблені після аварії \"Challenger\", і першим шатлом, який полетів з SSME Фази II і Блоку I. \"Discovery \" також доставив на орбіту космічний телескоп \"Hubble \" і здійснив дві з п'яти місій з обслуговування обсерваторії.\n",
            "Відповідно до Критерію А, \"Discovery\" є важливим як найстаріший з трьох збережених орбітальних кораблів, побудованих для програми \"Space Shuttle\" (SSP), найдовшої американської космічної програми на сьогоднішній день; він був третім з п'яти орбітальних кораблів, побудованих NASA.\n",
            "Орбітальний корабель \"Discovery\", OV-103, вважається таким, що має право на внесення до Національного реєстру історичних місць (NRHP) в контексті Програми космічних човників США (1969-2011) за критерієм A в галузі космічних досліджень і транспорту та за критерієм C в галузі інженерії.\n",
            "За словами Вейна Хейла, керівника польотів з Космічного центру імені Джонсона, орбітальний корабель \"Space Shuttle\" являє собою \"величезний технологічний стрибок від одноразових ракет і капсул до багаторазового, крилатого, гіперзвукового космічного корабля, що несе вантаж\".\n"
          ]
        }
      ]
    },
    {
      "cell_type": "markdown",
      "source": [
        "### Результат роботи версії з словником і текстом для Engish"
      ],
      "metadata": {
        "id": "xT021R924SrK"
      }
    },
    {
      "cell_type": "markdown",
      "source": [
        "```\n",
        "The Orbiter Discovery, OV-103, is considered eligible for listing in the National Register of Historic Places (NRHP) in the context of the U.S. Space Shuttle Program (1969-2011) under Criterion A in the areas of Space Exploration and Transportation and under Criterion C in the area of Engineering.\n",
        "Under Criterion A, Discovery is significant as the oldest of the three extant orbiter vehicles constructed for the Space Shuttle Program (SSP), the longest running American space program to date; she was the third of five orbiters built by NASA.\n",
        "In addition, Discovery was vital to the construction of the International Space Station (ISS); she flew thirteen of the thirty-seven total missions flown to the station by a U.S. Space Shuttle.\n",
        "According to Wayne Hale, a flight director from Johnson Space Center, the Space Shuttle orbiter represents a “huge technological leap from expendable rockets and capsules to a reusable, winged, hypersonic, cargo-carrying spacecraft. ”\n",
        "```\n",
        "\n"
      ],
      "metadata": {
        "id": "2AtAeHcA4PPp"
      }
    },
    {
      "cell_type": "markdown",
      "source": [
        "## Висновок"
      ],
      "metadata": {
        "id": "YZUGXTGeV2wU"
      }
    },
    {
      "cell_type": "markdown",
      "source": [
        "Завдання було на онсові тексту створити короткий зміст цього тексту.\n",
        "\n",
        "Для фрмування короткого тексту було вибрано було 4 речення, на основі частоти вживання слів у цих реченях.\n",
        "\n",
        "В результаті роботи було викорисанно бібліотеку `spaCy`.\n",
        "\n",
        "В результаті було отрманно однаковий результат summary з 4-х речень:"
      ],
      "metadata": {
        "id": "daJnWQLcWUk1"
      }
    },
    {
      "cell_type": "markdown",
      "source": [
        "```\n",
        "\"Discovery\" став першим шатлом, який полетів з модернізованими SRB, що були розроблені після аварії \"Challenger\", і першим шатлом, який полетів з SSME Фази II і Блоку I. \"Discovery \" також доставив на орбіту космічний телескоп \"Hubble \" і здійснив дві з п'яти місій з обслуговування обсерваторії.\n",
        "Відповідно до Критерію А, \"Discovery\" є важливим як найстаріший з трьох збережених орбітальних кораблів, побудованих для програми \"Space Shuttle\" (SSP), найдовшої американської космічної програми на сьогоднішній день; він був третім з п'яти орбітальних кораблів, побудованих NASA.\n",
        "Орбітальний корабель \"Discovery\", OV-103, вважається таким, що має право на внесення до Національного реєстру історичних місць (NRHP) в контексті Програми космічних човників США (1969-2011) за критерієм A в галузі космічних досліджень і транспорту та за критерієм C в галузі інженерії.\n",
        "За словами Вейна Хейла, керівника польотів з Космічного центру імені Джонсона, орбітальний корабель \"Space Shuttle\" являє собою \"величезний технологічний стрибок від одноразових ракет і капсул до багаторазового, крилатого, гіперзвукового космічного корабля, що несе вантаж\".\n",
        "```"
      ],
      "metadata": {
        "id": "RtZN9dW35E7u"
      }
    },
    {
      "cell_type": "markdown",
      "source": [
        "Результат роботи версії з словником і текстом для Engish"
      ],
      "metadata": {
        "id": "SwMywZW05KSm"
      }
    },
    {
      "cell_type": "markdown",
      "source": [
        "```\n",
        "The Orbiter Discovery, OV-103, is considered eligible for listing in the National Register of Historic Places (NRHP) in the context of the U.S. Space Shuttle Program (1969-2011) under Criterion A in the areas of Space Exploration and Transportation and under Criterion C in the area of Engineering.\n",
        "Under Criterion A, Discovery is significant as the oldest of the three extant orbiter vehicles constructed for the Space Shuttle Program (SSP), the longest running American space program to date; she was the third of five orbiters built by NASA.\n",
        "In addition, Discovery was vital to the construction of the International Space Station (ISS); she flew thirteen of the thirty-seven total missions flown to the station by a U.S. Space Shuttle.\n",
        "According to Wayne Hale, a flight director from Johnson Space Center, the Space Shuttle orbiter represents a “huge technological leap from expendable rockets and capsules to a reusable, winged, hypersonic, cargo-carrying spacecraft.\n",
        "```\n",
        "\n"
      ],
      "metadata": {
        "id": "_iqKl-A-WCQR"
      }
    },
    {
      "cell_type": "markdown",
      "source": [
        "Переклад стислого змісту ситемою автоматичного прекладу DeepL з English:"
      ],
      "metadata": {
        "id": "tHNiFxCXYRsf"
      }
    },
    {
      "cell_type": "markdown",
      "source": [
        "```\n",
        "Орбітальний корабель \"Діскавері\" (OV-103) вважається таким, що має право на внесення до Національного реєстру історичних місць (NRHP) в контексті Програми космічних човників США (1969-2011 рр.) за критерієм А в галузі космічних досліджень і транспорту та за критерієм С в галузі інженерії.\n",
        "За критерієм А \"Діскавері\" має важливе значення як найстаріший з трьох збережених орбітальних кораблів, побудованих для програми \"Спейс Шаттл\" (SSP), найдовшої американської космічної програми на сьогоднішній день; вона була третім з п'яти орбітальних кораблів, побудованих NASA.\n",
        "Крім того, \"Діскавері\" відіграла важливу роль у будівництві Міжнародної космічної станції (МКС); вона здійснила тринадцять з тридцяти семи польотів на станцію за допомогою американських шатлів.\n",
        "За словами Вейна Хейла, керівника польотів Космічного центру імені Джонсона, орбітальний корабель \"Спейс Шаттл\" являє собою \"величезний технологічний стрибок від одноразових ракет і капсул до багаторазового, крилатого, гіперзвукового, вантажного космічного корабля.\n",
        "```"
      ],
      "metadata": {
        "id": "-GKNgqzqX64E"
      }
    }
  ]
}